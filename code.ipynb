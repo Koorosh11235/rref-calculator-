{
 "cells": [
  {
   "cell_type": "code",
   "execution_count": 6,
   "id": "be5acc36",
   "metadata": {},
   "outputs": [],
   "source": [
    "import numpy as np\n",
    "\n",
    "def get_rref(arr):\n",
    "\n",
    "    def swap_rows(arr, row1, row2):\n",
    "        arr[[row1, row2]] = arr[[row2, row1]]\n",
    "\n",
    "    def scale_row(arr, row, scalar):\n",
    "        new_row = arr[row] *scalar\n",
    "        arr[row] = new_row.astype(float)\n",
    "\n",
    "    def add_row(arr, source_row, target_row, scalar=1):\n",
    "        arr[target_row] += scalar * arr[source_row]\n",
    "\n",
    "    def find_pivot_row(arr, col):\n",
    "        num_rows = arr.shape[0]\n",
    "        for row in range(col, num_rows):\n",
    "            if arr[row, col] != 0:\n",
    "                return row\n",
    "        return None\n",
    "\n",
    "    def eliminate_below(arr, pivot_row, pivot_col):\n",
    "        num_rows, num_cols = arr.shape\n",
    "        pivot_val = arr[pivot_row, pivot_col]\n",
    "        for row in range(pivot_row + 1, num_rows):\n",
    "            factor = arr[row, pivot_col] / pivot_val\n",
    "            arr[row, pivot_col] = 0\n",
    "            for col in range(pivot_col + 1, num_cols):\n",
    "                arr[row, col] -= factor * arr[pivot_row, col]\n",
    "\n",
    "    def eliminate_above(arr, pivot_row, pivot_col):\n",
    "        for row in range(pivot_row - 1, -1, -1):\n",
    "            factor = arr[row, pivot_col]\n",
    "            arr[row, pivot_col] = 0\n",
    "            for col in range(pivot_col + 1, arr.shape[1]):\n",
    "                arr[row, col] -= factor * arr[pivot_row, col]\n",
    "\n",
    "    def reduce_to_rref(arr):\n",
    "        num_rows, num_cols = arr.shape\n",
    "        pivot_col = 0\n",
    "        for row in range(num_rows):\n",
    "            if pivot_col >= num_cols:\n",
    "                break\n",
    "            pivot_row = find_pivot_row(arr, pivot_col)\n",
    "            if pivot_row is None:\n",
    "                pivot_col += 1\n",
    "                continue\n",
    "            swap_rows(arr, row, pivot_row)\n",
    "            scale_row(arr, row, 1 / arr[row, pivot_col])\n",
    "            eliminate_below(arr, row, pivot_col)\n",
    "            eliminate_above(arr, row, pivot_col)\n",
    "            pivot_col += 1\n",
    "            check_all_zero(arr)\n",
    "\n",
    "    def check_all_zero(arr):\n",
    "        zero_rows = np.where(~arr.any(axis=1))[0]\n",
    "        if zero_rows.size > 0:\n",
    "            last_row = arr.shape[0] - 1\n",
    "            for row in zero_rows:\n",
    "                if row != last_row:\n",
    "                    swap_rows(arr, row, last_row)\n",
    "                    last_row -= 1\n",
    "                    \n",
    "    reduce_to_rref(arr)\n",
    "    arr = arr.astype(float)\n",
    "    return arr"
   ]
  },
  {
   "cell_type": "code",
   "execution_count": 7,
   "id": "5620b283",
   "metadata": {},
   "outputs": [],
   "source": [
    "np.random.seed(42)\n",
    "arr1 = np.random.randint(0, 20, (5, 5)).astype(float)\n",
    "arr2 = np.random.randint(0, 20, (3, 3)).astype(float)\n",
    "arr3 = np.random.randint(0, 20, (6, 4)).astype(float)\n",
    "arr4 = np.random.randint(0, 20, (3, 5)).astype(float)\n",
    "arr5 = np.random.randint(0, 20, (2, 2)).astype(float)\n",
    "arr6 = np.random.randint(0, 100, (5, 5)).astype(float)\n",
    "arr7 = np.random.uniform(0, 40, size=(5, 5)).astype(float)\n",
    "arr8 = np.array([[1, 2, 3], [4, 5, 6], [7, 8, 9]], dtype=np.float64)\n",
    "test_cases = [arr1, arr2, arr3, arr4, arr5, arr6, arr7, arr8]"
   ]
  },
  {
   "cell_type": "code",
   "execution_count": 8,
   "id": "774e3aac",
   "metadata": {},
   "outputs": [
    {
     "data": {
      "text/plain": [
       "'for index,matrix in enumerate(test_cases):\\n\\n    print(f\"test matrix : {index+1}\")\\n    print(\"Original Matrix :\")\\n    print(matrix)\\n    print(\"Reduced row echolon form : \")\\n    print(get_rref(matrix))\\n    print(\"-------------------------------------------------------------------------------------------------\")'"
      ]
     },
     "execution_count": 8,
     "metadata": {},
     "output_type": "execute_result"
    }
   ],
   "source": [
    "\n",
    "\"\"\"for index,matrix in enumerate(test_cases):\n",
    "\n",
    "    print(f\"test matrix : {index+1}\")\n",
    "    print(\"Original Matrix :\")\n",
    "    print(matrix)\n",
    "    print(\"Reduced row echolon form : \")\n",
    "    print(get_rref(matrix))\n",
    "    print(\"-------------------------------------------------------------------------------------------------\")\"\"\""
   ]
  },
  {
   "cell_type": "code",
   "execution_count": 9,
   "id": "f4d88e49",
   "metadata": {},
   "outputs": [],
   "source": [
    "import numpy as np\n",
    "\n",
    "def has_answers(row_echelon_form):\n",
    "    num_rows = row_echelon_form.shape[0]\n",
    "    num_cols = row_echelon_form.shape[1]\n",
    "\n",
    "    unique_solution = False\n",
    "    infinite_solutions = True\n",
    "\n",
    "    if num_rows > num_cols - 1:\n",
    "        last_row = row_echelon_form[num_rows - 1, :]\n",
    "        if np.any(last_row[:-1]):\n",
    "            infinite_solutions = True\n",
    "            unique_solution = False\n",
    "\n",
    "    if unique_solution:\n",
    "        print(\"The matrix has a unique solution.\")\n",
    "    elif infinite_solutions:\n",
    "        print(\"The matrix has infinitely many solutions.\")\n",
    "    else:\n",
    "        print(\"The matrix has no solutions.\")\n"
   ]
  },
  {
   "cell_type": "code",
   "execution_count": 10,
   "id": "b4948ad3",
   "metadata": {},
   "outputs": [
    {
     "data": {
      "text/plain": [
       "[array([[ 6., 19., 14., 10.,  7., 51.],\n",
       "        [ 6., 18., 10., 10.,  3., 92.],\n",
       "        [ 7.,  2.,  1., 11.,  5., 14.],\n",
       "        [ 1.,  0., 11., 11., 16., 71.],\n",
       "        [ 9., 15., 14., 14., 18., 60.]]),\n",
       " array([[11., 19.,  2., 20.],\n",
       "        [ 4., 18.,  6., 82.],\n",
       "        [ 8.,  6., 17., 86.]]),\n",
       " array([[ 3., 13., 17.,  8., 74.],\n",
       "        [ 1., 19., 14.,  6., 74.],\n",
       "        [11.,  7., 14.,  2., 87.],\n",
       "        [13., 16.,  3., 17., 99.],\n",
       "        [ 7.,  3.,  1.,  5., 23.],\n",
       "        [ 9.,  3., 17., 11.,  2.]]),\n",
       " array([[ 1.,  9.,  3., 13., 15., 21.],\n",
       "        [14.,  7., 13.,  7., 15., 52.],\n",
       "        [12., 17., 14., 12.,  8.,  1.]]),\n",
       " array([[14., 12., 87.],\n",
       "        [ 0.,  6., 29.]]),\n",
       " array([[ 8., 87.,  0.,  7., 87., 37.],\n",
       "        [62., 10., 80.,  7., 34.,  1.],\n",
       "        [34., 32.,  4., 40., 27., 63.],\n",
       "        [ 6., 72., 71., 11., 33., 59.],\n",
       "        [32., 47., 22., 61., 87., 20.]]),\n",
       " array([[26.63689426, 23.65191151, 10.98887172, 22.44973703, 15.31707499,\n",
       "         32.        ],\n",
       "        [38.86848382, 33.95655297, 28.86918085,  9.43939679, 10.24273291,\n",
       "         75.        ],\n",
       "        [ 1.61734358, 28.42651559,  4.43563283, 17.57346007,  8.06876809,\n",
       "         57.        ],\n",
       "        [35.83054383, 19.01480893, 22.53102288, 27.82064346,  5.57325818,\n",
       "         21.        ],\n",
       "        [24.17669517, 21.59364365,  8.12244899, 37.71414282, 23.95461866,\n",
       "         88.        ]]),\n",
       " array([[ 1.,  2.,  3., 48.],\n",
       "        [ 4.,  5.,  6., 90.],\n",
       "        [ 7.,  8.,  9., 58.]])]"
      ]
     },
     "execution_count": 10,
     "metadata": {},
     "output_type": "execute_result"
    }
   ],
   "source": [
    "np.random.seed(42)\n",
    "def make_answer_matrix(arr):\n",
    "    rows = (arr.shape[0])\n",
    "    array = np.random.randint(0, 100, (rows,1)).astype(float)\n",
    "    sysyem = np.concatenate((arr, array), axis = 1)\n",
    "    return sysyem\n",
    "systems = []\n",
    "for case in test_cases:\n",
    "    systems.append(make_answer_matrix(case))\n",
    "(systems)"
   ]
  },
  {
   "cell_type": "code",
   "execution_count": 11,
   "id": "ad0ca462",
   "metadata": {},
   "outputs": [
    {
     "data": {
      "text/plain": [
       "[array([[  1.        ,   0.        ,   0.        ,   0.        ,\n",
       "           0.        , -39.91231904],\n",
       "        [ -0.        ,   1.        ,   0.        ,   0.        ,\n",
       "           0.        ,  20.40052809],\n",
       "        [  0.        ,   0.        ,   1.        ,   0.        ,\n",
       "           0.        , -27.17859419],\n",
       "        [  0.        ,   0.        ,   0.        ,   1.        ,\n",
       "           0.        ,  20.0564964 ],\n",
       "        [  0.        ,   0.        ,   0.        ,   0.        ,\n",
       "           1.        ,  11.82846217]]),\n",
       " array([[ 1.        ,  0.        ,  0.        , -5.69957447],\n",
       "        [ 0.        ,  1.        ,  0.        ,  3.67404255],\n",
       "        [ 0.        ,  0.        ,  1.        ,  6.44425532]]),\n",
       " array([[ 1.,  0.,  0.,  0.,  0.],\n",
       "        [ 0.,  1.,  0.,  0.,  0.],\n",
       "        [-0., -0.,  1.,  0.,  0.],\n",
       "        [ 0.,  0.,  0.,  1.,  0.],\n",
       "        [-0., -0., -0., -0.,  1.],\n",
       "        [ 0.,  0.,  0.,  0.,  0.]]),\n",
       " array([[   1.        ,    0.        ,    0.        ,   46.28571429,\n",
       "          104.85714286,  304.14285714],\n",
       "        [  -0.        ,    1.        ,    0.        ,   15.52380952,\n",
       "           33.23809524,   93.0952381 ],\n",
       "        [   0.        ,    0.        ,    1.        ,  -57.66666667,\n",
       "         -129.66666667, -373.66666667]]),\n",
       " array([[1.        , 0.        , 2.07142857],\n",
       "        [0.        , 1.        , 4.83333333]]),\n",
       " array([[ 1.        ,  0.        ,  0.        ,  0.        ,  0.        ,\n",
       "          0.73008406],\n",
       "        [-0.        ,  1.        ,  0.        ,  0.        ,  0.        ,\n",
       "          1.49617745],\n",
       "        [-0.        , -0.        ,  1.        ,  0.        ,  0.        ,\n",
       "         -0.28792883],\n",
       "        [ 0.        ,  0.        ,  0.        ,  1.        ,  0.        ,\n",
       "          0.58628731],\n",
       "        [ 0.        ,  0.        ,  0.        ,  0.        ,  1.        ,\n",
       "         -1.1851968 ]]),\n",
       " array([[ 1.        ,  0.        ,  0.        ,  0.        ,  0.        ,\n",
       "         -5.85606102],\n",
       "        [-0.        ,  1.        ,  0.        ,  0.        ,  0.        ,\n",
       "         -1.29582738],\n",
       "        [ 0.        ,  0.        ,  1.        ,  0.        ,  0.        ,\n",
       "          9.34778207],\n",
       "        [ 0.        ,  0.        ,  0.        ,  1.        ,  0.        ,\n",
       "          0.13607287],\n",
       "        [ 0.        ,  0.        ,  0.        ,  0.        ,  1.        ,\n",
       "          7.3682276 ]]),\n",
       " array([[  1.,   0.,  -1., -20.],\n",
       "        [ -0.,   1.,   2.,  34.],\n",
       "        [  0.,   0.,   0., -74.]])]"
      ]
     },
     "execution_count": 11,
     "metadata": {},
     "output_type": "execute_result"
    }
   ],
   "source": [
    "row_echolon_forms = []\n",
    "for system in systems :\n",
    "    row_echolon_forms.append(get_rref(system))\n",
    "row_echolon_forms"
   ]
  },
  {
   "cell_type": "code",
   "execution_count": 12,
   "id": "0a775b9d",
   "metadata": {},
   "outputs": [
    {
     "name": "stdout",
     "output_type": "stream",
     "text": [
      "the system has unique answer\n",
      "None\n"
     ]
    }
   ],
   "source": [
    "def answer(arr):\n",
    "    coef = arr[:,:-1]\n",
    "    answer = arr[:,-1]\n",
    "    if np.all(coef[-1] == 0):\n",
    "        if answer[-1] != 0:\n",
    "            print(\"The system is incositnate\")\n",
    "            return\n",
    "        else:\n",
    "            print(\"the system is consistant(infinte answers)\")\n",
    "            return\n",
    "    elif np.count_nonzero(coef[-1]) > 1 :\n",
    "        print(\"the system is consistante(infinte answers)\")\n",
    "        return\n",
    "    if coef[-1, -1] == 1 and answer[-1] != 0:\n",
    "        print(\"the system has unique answer\")\n",
    "        return\n",
    "        \n",
    "print(answer(row_echolon_forms[0]))"
   ]
  },
  {
   "cell_type": "code",
   "execution_count": 13,
   "id": "f73d4f7d",
   "metadata": {},
   "outputs": [
    {
     "data": {
      "text/plain": [
       "array([[  1.        ,   0.        ,   0.        ,   0.        ,\n",
       "          0.        , -39.91231904],\n",
       "       [ -0.        ,   1.        ,   0.        ,   0.        ,\n",
       "          0.        ,  20.40052809],\n",
       "       [  0.        ,   0.        ,   1.        ,   0.        ,\n",
       "          0.        , -27.17859419],\n",
       "       [  0.        ,   0.        ,   0.        ,   1.        ,\n",
       "          0.        ,  20.0564964 ],\n",
       "       [  0.        ,   0.        ,   0.        ,   0.        ,\n",
       "          1.        ,  11.82846217]])"
      ]
     },
     "execution_count": 13,
     "metadata": {},
     "output_type": "execute_result"
    }
   ],
   "source": [
    "row_echolon_forms[0]"
   ]
  },
  {
   "cell_type": "code",
   "execution_count": 14,
   "id": "9ce42928",
   "metadata": {},
   "outputs": [
    {
     "name": "stdout",
     "output_type": "stream",
     "text": [
      "[[  1.           0.           0.           0.           0.\n",
      "  -39.91231904]\n",
      " [ -0.           1.           0.           0.           0.\n",
      "   20.40052809]\n",
      " [  0.           0.           1.           0.           0.\n",
      "  -27.17859419]\n",
      " [  0.           0.           0.           1.           0.\n",
      "   20.0564964 ]\n",
      " [  0.           0.           0.           0.           1.\n",
      "   11.82846217]]\n",
      "the system has unique answer\n",
      "--------------------------------------------------------------\n",
      "[[ 1.          0.          0.         -5.69957447]\n",
      " [ 0.          1.          0.          3.67404255]\n",
      " [ 0.          0.          1.          6.44425532]]\n",
      "the system has unique answer\n",
      "--------------------------------------------------------------\n",
      "[[ 1.  0.  0.  0.  0.]\n",
      " [ 0.  1.  0.  0.  0.]\n",
      " [-0. -0.  1.  0.  0.]\n",
      " [ 0.  0.  0.  1.  0.]\n",
      " [-0. -0. -0. -0.  1.]\n",
      " [ 0.  0.  0.  0.  0.]]\n",
      "the system is consistant(infinte answers)\n",
      "--------------------------------------------------------------\n",
      "[[   1.            0.            0.           46.28571429  104.85714286\n",
      "   304.14285714]\n",
      " [  -0.            1.            0.           15.52380952   33.23809524\n",
      "    93.0952381 ]\n",
      " [   0.            0.            1.          -57.66666667 -129.66666667\n",
      "  -373.66666667]]\n",
      "the system is consistante(infinte answers)\n",
      "--------------------------------------------------------------\n",
      "[[1.         0.         2.07142857]\n",
      " [0.         1.         4.83333333]]\n",
      "the system has unique answer\n",
      "--------------------------------------------------------------\n",
      "[[ 1.          0.          0.          0.          0.          0.73008406]\n",
      " [-0.          1.          0.          0.          0.          1.49617745]\n",
      " [-0.         -0.          1.          0.          0.         -0.28792883]\n",
      " [ 0.          0.          0.          1.          0.          0.58628731]\n",
      " [ 0.          0.          0.          0.          1.         -1.1851968 ]]\n",
      "the system has unique answer\n",
      "--------------------------------------------------------------\n",
      "[[ 1.          0.          0.          0.          0.         -5.85606102]\n",
      " [-0.          1.          0.          0.          0.         -1.29582738]\n",
      " [ 0.          0.          1.          0.          0.          9.34778207]\n",
      " [ 0.          0.          0.          1.          0.          0.13607287]\n",
      " [ 0.          0.          0.          0.          1.          7.3682276 ]]\n",
      "the system has unique answer\n",
      "--------------------------------------------------------------\n",
      "[[  1.   0.  -1. -20.]\n",
      " [ -0.   1.   2.  34.]\n",
      " [  0.   0.   0. -74.]]\n",
      "The system is incositnate\n",
      "--------------------------------------------------------------\n"
     ]
    }
   ],
   "source": [
    "for case in row_echolon_forms:\n",
    "    print(case)\n",
    "    answer(case)\n",
    "    print(\"--------------------------------------------------------------\")"
   ]
  },
  {
   "cell_type": "code",
   "execution_count": 15,
   "id": "b6ed7645",
   "metadata": {},
   "outputs": [
    {
     "name": "stdout",
     "output_type": "stream",
     "text": [
      "[[  1.   0.  -1. -20.]\n",
      " [ -0.   1.   2.  34.]\n",
      " [  0.   0.   0. -74.]]\n"
     ]
    }
   ],
   "source": []
  },
  {
   "cell_type": "code",
   "execution_count": null,
   "id": "0e048476",
   "metadata": {},
   "outputs": [],
   "source": []
  }
 ],
 "metadata": {
  "kernelspec": {
   "display_name": "Python 3 (ipykernel)",
   "language": "python",
   "name": "python3"
  },
  "language_info": {
   "codemirror_mode": {
    "name": "ipython",
    "version": 3
   },
   "file_extension": ".py",
   "mimetype": "text/x-python",
   "name": "python",
   "nbconvert_exporter": "python",
   "pygments_lexer": "ipython3",
   "version": "3.10.9"
  }
 },
 "nbformat": 4,
 "nbformat_minor": 5
}
